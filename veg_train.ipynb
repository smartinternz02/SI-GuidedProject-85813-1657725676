{
 "cells": [
  {
   "cell_type": "code",
   "execution_count": 1,
   "id": "d56d3375",
   "metadata": {},
   "outputs": [],
   "source": [
    "from keras.preprocessing.image import ImageDataGenerator\n",
    "train_datagen = ImageDataGenerator(rescale = 1./255,shear_range = 0.2,zoom_range = 0.2, horizontal_flip = True)\n",
    "test_datagen =ImageDataGenerator(rescale = 1)"
   ]
  },
  {
   "cell_type": "code",
   "execution_count": 5,
   "id": "3631c563",
   "metadata": {},
   "outputs": [
    {
     "name": "stdout",
     "output_type": "stream",
     "text": [
      "Found 11386 images belonging to 9 classes.\n",
      "Found 3416 images belonging to 9 classes.\n"
     ]
    }
   ],
   "source": [
    "x_train = train_datagen.flow_from_directory('D:\\\\Fertilizer\\\\Fertilizers_Recommendation_ System_For_Disease_ Prediction\\\\Dataset Plant Disease\\\\Veg-dataset\\Veg-dataset\\\\train_set', \n",
    "                                            target_size = (128,128), \n",
    "                                            batch_size = 16, \n",
    "                                            class_mode = 'categorical')\n",
    "\n",
    "x_test = test_datagen.flow_from_directory('D:\\\\Fertilizer\\\\Fertilizers_Recommendation_ System_For_Disease_ Prediction\\\\Dataset Plant Disease\\\\Veg-dataset\\\\Veg-dataset\\\\test_set', \n",
    "                                          target_size = (128,128), \n",
    "                                          batch_size = 16, \n",
    "                                          class_mode = 'categorical')"
   ]
  },
  {
   "cell_type": "code",
   "execution_count": 6,
   "id": "cba63dc1",
   "metadata": {},
   "outputs": [],
   "source": [
    "from keras.models import Sequential\n",
    "from keras.layers import Dense\n",
    "from keras.layers import Convolution2D\n",
    "from keras.layers import MaxPooling2D\n",
    "from keras.layers import Flatten"
   ]
  },
  {
   "cell_type": "code",
   "execution_count": 7,
   "id": "8690f180",
   "metadata": {},
   "outputs": [],
   "source": [
    "from tensorflow.keras.models import Sequential\n",
    "model = Sequential()"
   ]
  },
  {
   "cell_type": "code",
   "execution_count": 8,
   "id": "193507dd",
   "metadata": {},
   "outputs": [],
   "source": [
    "#Add Convolution Layer\n",
    "model.add(Convolution2D(32,(3,3), input_shape = (128,128,3), activation = 'relu'))"
   ]
  },
  {
   "cell_type": "code",
   "execution_count": 9,
   "id": "3f304949",
   "metadata": {},
   "outputs": [],
   "source": [
    "#Add the pooling layer\n",
    "model.add(MaxPooling2D(pool_size = (2,2)))"
   ]
  },
  {
   "cell_type": "code",
   "execution_count": 10,
   "id": "6f53a6e9",
   "metadata": {},
   "outputs": [],
   "source": [
    "#Add the flatten layer\n",
    "model.add(Flatten())"
   ]
  },
  {
   "cell_type": "code",
   "execution_count": 12,
   "id": "af6e579c",
   "metadata": {},
   "outputs": [],
   "source": [
    "#Adding the output layer\n",
    "model.add(Dense(units = 150, activation ='relu'))\n",
    "model.add(Dense(units = 75, activation ='relu'))\n",
    "model.add(Dense(units= 9,activation = 'softmax'))"
   ]
  },
  {
   "cell_type": "code",
   "execution_count": 13,
   "id": "8979068b",
   "metadata": {},
   "outputs": [],
   "source": [
    "model.compile(loss = 'categorical_crossentropy',optimizer = \"adam\",metrics = [\"accuracy\"])"
   ]
  },
  {
   "cell_type": "code",
   "execution_count": 14,
   "id": "03384e35",
   "metadata": {},
   "outputs": [
    {
     "name": "stderr",
     "output_type": "stream",
     "text": [
      "C:\\Users\\Lenovo\\AppData\\Local\\Temp/ipykernel_19200/2239268438.py:1: UserWarning: `Model.fit_generator` is deprecated and will be removed in a future version. Please use `Model.fit`, which supports generators.\n",
      "  model.fit_generator(x_train,steps_per_epoch = 89,\n"
     ]
    },
    {
     "name": "stdout",
     "output_type": "stream",
     "text": [
      "Epoch 1/5\n",
      "89/89 [==============================] - 30s 326ms/step - loss: 2.7307 - accuracy: 0.2395 - val_loss: 188.0873 - val_accuracy: 0.2917\n",
      "Epoch 2/5\n",
      "89/89 [==============================] - 27s 305ms/step - loss: 1.4921 - accuracy: 0.5126 - val_loss: 370.4670 - val_accuracy: 0.3310\n",
      "Epoch 3/5\n",
      "89/89 [==============================] - 26s 295ms/step - loss: 1.1020 - accuracy: 0.6248 - val_loss: 491.0040 - val_accuracy: 0.3866\n",
      "Epoch 4/5\n",
      "89/89 [==============================] - 25s 282ms/step - loss: 1.0217 - accuracy: 0.6468 - val_loss: 786.4774 - val_accuracy: 0.3171\n",
      "Epoch 5/5\n",
      "89/89 [==============================] - 24s 270ms/step - loss: 0.8736 - accuracy: 0.7093 - val_loss: 853.7815 - val_accuracy: 0.3287\n"
     ]
    },
    {
     "data": {
      "text/plain": [
       "<keras.callbacks.History at 0x1e9ce01df70>"
      ]
     },
     "execution_count": 14,
     "metadata": {},
     "output_type": "execute_result"
    }
   ],
   "source": [
    "model.fit_generator(x_train,steps_per_epoch = 89,\n",
    "                    epochs = 5,\n",
    "                    validation_data = x_test,\n",
    "                    validation_steps = 27)"
   ]
  },
  {
   "cell_type": "code",
   "execution_count": 15,
   "id": "c634a3c1",
   "metadata": {},
   "outputs": [],
   "source": [
    "model.save('vegetable.h5')"
   ]
  },
  {
   "cell_type": "code",
   "execution_count": null,
   "id": "1ca8b094",
   "metadata": {},
   "outputs": [],
   "source": []
  }
 ],
 "metadata": {
  "kernelspec": {
   "display_name": "Python 3 (ipykernel)",
   "language": "python",
   "name": "python3"
  },
  "language_info": {
   "codemirror_mode": {
    "name": "ipython",
    "version": 3
   },
   "file_extension": ".py",
   "mimetype": "text/x-python",
   "name": "python",
   "nbconvert_exporter": "python",
   "pygments_lexer": "ipython3",
   "version": "3.9.7"
  }
 },
 "nbformat": 4,
 "nbformat_minor": 5
}
